{
 "cells": [
  {
   "cell_type": "code",
   "execution_count": 6,
   "metadata": {},
   "outputs": [
    {
     "name": "stderr",
     "output_type": "stream",
     "text": [
      "E\n",
      "======================================================================\n",
      "ERROR: /Users/vishnusrinivasan/Library/Jupyter/runtime/kernel-d6c0c719-92bc-4d14-9d4f-02c0e2407bf9 (unittest.loader._FailedTest)\n",
      "----------------------------------------------------------------------\n",
      "AttributeError: module '__main__' has no attribute '/Users/vishnusrinivasan/Library/Jupyter/runtime/kernel-d6c0c719-92bc-4d14-9d4f-02c0e2407bf9'\n",
      "\n",
      "----------------------------------------------------------------------\n",
      "Ran 1 test in 0.001s\n",
      "\n",
      "FAILED (errors=1)\n"
     ]
    },
    {
     "data": {
      "text/plain": [
       "<unittest.main.TestProgram at 0x106eb66d8>"
      ]
     },
     "execution_count": 6,
     "metadata": {},
     "output_type": "execute_result"
    }
   ],
   "source": [
    "#!/usr/bin/python3\n",
    "\n",
    "# student test file for HW3\n",
    "import unittest\n",
    "from hw3 import *\n",
    "\n",
    "#===================================\n",
    "\n",
    "class tester_matrix_multiply(unittest.TestCase):\n",
    "\tdef test__given(self):\n",
    "\t\tself.assertEqual(matrix_multiply([[1,4,6]], [[2,3],[5,8],[7,9]]), [[64,89]])\n",
    "\n",
    "class tester_nth_largest_element(unittest.TestCase):\n",
    "\tdef test__given(self):\n",
    "\t\tself.assertEqual(nth_largest_element([3, 1, 5, 2, 4], 3), 3)\n",
    "\t\tself.assertEqual(nth_largest_element([-331, -776, 917, 399, -768, -183, -116, 278, -544, -669], 5), -183)\n",
    "\t\tself.assertEqual(nth_largest_element([-788, 227, 22, -204, 569, -650, -692, -319, 378, -297], 9), -692)\n",
    "\n",
    "class tester_reverse_block(unittest.TestCase):\n",
    "\tdef test__given(self):\n",
    "\t\tself.assertEqual(reverse_block([1,2,3, 4,5,6, 7], 3), [3,2,1, 6,5,4, 7])\n",
    "\n",
    "class tester_subset_sum(unittest.TestCase):\n",
    "\tdef test__given(self):\n",
    "\t\tself.assertTrue(subset_sum([1,2,3,4,5,7], 13))\n",
    "\t\tself.assertFalse(subset_sum([1,2,-1,5,4,-196], 196))\n",
    "\n",
    "class tester_spiral_matrix(unittest.TestCase):\n",
    "\tdef test__given(self):\n",
    "\t\tin_arr = \\\n",
    "\t\t[[ 1, 2, 3, 4, 5],\n",
    "\t\t [ 6, 7, 8, 9,10],\n",
    "\t\t [11,12,13,14,15],\n",
    "\t\t [16,17,18,19,20],\n",
    "\t\t [21,22,23,24,25]]\n",
    "\t\tout_arr = [1,2,3,4,5, 10,15,20,25, 24,23,22,21, 16,11,6, 7,8,9, 14,19, 18,17, 12, 13]\n",
    "\t\tself.assertEqual(spiral_matrix(in_arr), out_arr)\n",
    "\n",
    "#===================================\n",
    "\n",
    "if __name__ == \"__main__\":\n",
    "\tunittest.main(module=__name__, buffer=True, exit=False)\n",
    "\n"
   ]
  },
  {
   "cell_type": "code",
   "execution_count": null,
   "metadata": {},
   "outputs": [],
   "source": []
  },
  {
   "cell_type": "code",
   "execution_count": null,
   "metadata": {},
   "outputs": [],
   "source": []
  }
 ],
 "metadata": {
  "kernelspec": {
   "display_name": "Python 3",
   "language": "python",
   "name": "python3"
  },
  "language_info": {
   "codemirror_mode": {
    "name": "ipython",
    "version": 3
   },
   "file_extension": ".py",
   "mimetype": "text/x-python",
   "name": "python",
   "nbconvert_exporter": "python",
   "pygments_lexer": "ipython3",
   "version": "3.6.5"
  }
 },
 "nbformat": 4,
 "nbformat_minor": 2
}
